{
  "nbformat": 4,
  "nbformat_minor": 0,
  "metadata": {
    "colab": {
      "name": "Submission notebook (R).ipynb",
      "provenance": [],
      "collapsed_sections": [],
      "include_colab_link": true
    },
    "kernelspec": {
      "name": "ir",
      "display_name": "R"
    }
  },
  "cells": [
    {
      "cell_type": "markdown",
      "metadata": {
        "id": "view-in-github",
        "colab_type": "text"
      },
      "source": [
        "<a href=\"https://colab.research.google.com/github/t-monfort/Pricing_Game_2020_Auto/blob/master/Submission_notebook_(R).ipynb\" target=\"_parent\"><img src=\"https://colab.research.google.com/assets/colab-badge.svg\" alt=\"Open In Colab\"/></a>"
      ]
    },
    {
      "cell_type": "markdown",
      "metadata": {
        "id": "5fHOA8YzJN1F"
      },
      "source": [
        "<div style=\"text-align: center\">\n",
        "  <img alt=\"AIcrowd\" src=\"https://gitlab.aicrowd.com/jyotish/pricing-game-notebook-scripts/raw/master/pricing-game-banner.png\">\n",
        "</div>"
      ]
    },
    {
      "cell_type": "markdown",
      "metadata": {
        "id": "hs6wY5pwLLyr"
      },
      "source": [
        "# How to use this notebook 📝\n",
        "\n",
        "1. **Copy the notebook**. This is a shared template and any edits you make here will not be saved. _You should copy it into your own drive folder._ For this, click the \"File\" menu (top-left), then \"Save a Copy in Drive\". You can edit your copy however you like.\n",
        "2. **Link it to your AICrowd account**. In order to submit your code to AICrowd, you need to provide your account's API key (see [_\"Configure static variables\"_](#static-var) for details).\n",
        "3. **Stick to the function definitions**. The submission to AICrowd will look for the pre-defined function names:\n",
        "  - `install_packages`\n",
        "  - `global_imports`\n",
        "  - `fit_model`\n",
        "  - `save_model`\n",
        "  - `load_model`\n",
        "  - `predict_expected_claim`\n",
        "  - `predict_premium`\n",
        "  - `preprocess_X_data`\n",
        "\n",
        "    Anything else you write outside of these functions will not be part of the final submission (including constants and utility functions), so make sure everything is defined within them, except for:"
      ]
    },
    {
      "cell_type": "markdown",
      "metadata": {
        "id": "PW1MDeDmcK99"
      },
      "source": [
        "# Your pricing model 🕵️\n",
        "\n",
        "In this notebook, you can play with the data, and define and train your pricing model.\n",
        "You can then directly submit it to the AICrowd server, with some magic code at the end.\n",
        "\n",
        "### Baseline logistic regression 💪\n",
        "You can also play with a baseline logistic regression model [implemented here](https://colab.research.google.com/drive/1hbIWxTHri1TP5cffRYzU_z4bQPvKi3FB?usp=sharing). \n"
      ]
    },
    {
      "cell_type": "markdown",
      "metadata": {
        "id": "Cf5QtzJELOSL"
      },
      "source": [
        "# Prepare the notebook 🛠"
      ]
    },
    {
      "cell_type": "code",
      "metadata": {
        "id": "ljY8PLQspi3L"
      },
      "source": [
        "cat(system('curl -sL https://gitlab.aicrowd.com/jyotish/pricing-game-notebook-scripts/raw/r-functions/r/setup.sh > setup.sh && bash setup.sh', intern=TRUE), sep='\\n')\n",
        "source(\"aicrowd_helpers.R\")"
      ],
      "execution_count": null,
      "outputs": []
    },
    {
      "cell_type": "markdown",
      "metadata": {
        "id": "ScNf-JbfVtf6"
      },
      "source": [
        "# Configure static variables 📎\n",
        "\n",
        "<a name=\"static-var\"></a>\n",
        "\n",
        "In order to submit using this notebook, you must visit this URL https://aicrowd.com/participants/me and copy your API key. \n",
        "\n",
        "Then you must set the value of `AICROWD_API_KEY` wuth the value."
      ]
    },
    {
      "cell_type": "code",
      "metadata": {
        "id": "v-aU1T_9cUN5"
      },
      "source": [
        "TRAINING_DATA_PATH = 'training.csv'\n",
        "MODEL_OUTPUT_PATH = 'trained_model.RData'  # Alter if not using .RData files\n",
        "AICROWD_API_KEY = ''  # You can get the key from https://aicrowd.com/participants/me"
      ],
      "execution_count": null,
      "outputs": []
    },
    {
      "cell_type": "markdown",
      "metadata": {
        "id": "BAq7u_3KjmSv"
      },
      "source": [
        "# Download dataset files 💾"
      ]
    },
    {
      "cell_type": "code",
      "metadata": {
        "id": "HxNxqHFIjpHP"
      },
      "source": [
        "# Make sure to offically join the challenge and accept the challenge rules! Otherwise you will not be able to download the data\n",
        "download_aicrowd_dataset(AICROWD_API_KEY) "
      ],
      "execution_count": null,
      "outputs": []
    },
    {
      "cell_type": "markdown",
      "metadata": {
        "id": "izMI_KQ0c1aS"
      },
      "source": [
        "# Packages 🗃\n",
        "\n",
        "Install and require here all the packages you need to define your model. \n",
        "\n",
        "**Note**: Installing packages the first time might take some time."
      ]
    },
    {
      "cell_type": "code",
      "metadata": {
        "id": "IdRCnCVmcvMh"
      },
      "source": [
        "install_packages <- function() {\n",
        "  # install.packages(\"caret\")\n",
        "  # install.packages(\"rpart\")\n",
        "}\n",
        "install_packages()"
      ],
      "execution_count": null,
      "outputs": []
    },
    {
      "cell_type": "code",
      "metadata": {
        "id": "kGNATcJ5dK_G"
      },
      "source": [
        "global_imports <- function() {\n",
        "  # require(\"caret\")\n",
        "  # require(\"rpart\")\n",
        "}\n",
        "global_imports()"
      ],
      "execution_count": null,
      "outputs": []
    },
    {
      "cell_type": "markdown",
      "metadata": {
        "id": "oIILubWJdVE6"
      },
      "source": [
        "# Loading the data 📲"
      ]
    },
    {
      "cell_type": "code",
      "metadata": {
        "id": "Hb70XooadS8x"
      },
      "source": [
        "# Load the dataset.\n",
        "train_data = read.csv(TRAINING_DATA_PATH)\n",
        "\n",
        "# Create a model, train it, then save it.\n",
        "Xdata = within(train_data, rm('claim_amount'))\n",
        "ydata = train_data['claim_amount']"
      ],
      "execution_count": null,
      "outputs": []
    },
    {
      "cell_type": "markdown",
      "metadata": {
        "id": "GFblo2hHV9L5"
      },
      "source": [
        "## How does the data look like? 🔍"
      ]
    },
    {
      "cell_type": "code",
      "metadata": {
        "id": "zRsLgulNV-R1"
      },
      "source": [
        "as.matrix(head(Xdata, 4))"
      ],
      "execution_count": null,
      "outputs": []
    },
    {
      "cell_type": "code",
      "metadata": {
        "id": "xGNmm0qPWEjl"
      },
      "source": [
        "as.matrix(head(ydata, 4))"
      ],
      "execution_count": null,
      "outputs": []
    },
    {
      "cell_type": "markdown",
      "metadata": {
        "id": "Dk10h86sddEq"
      },
      "source": [
        "# Training the model 🚀\n",
        "\n",
        "You must first define your first function: `fit_model`. This function takes training data as arguments, and outputs a \"model\" object -- that you define as you wish. For instance, this could be an array of parameter values. \n",
        "\n",
        "You may want to define the function `preprocess_X_data` that prepares and cleans your predictor variables for the training and prediction. "
      ]
    },
    {
      "cell_type": "markdown",
      "metadata": {
        "id": "cJ1OmtTDk6zm"
      },
      "source": [
        "## Define your data preprocessing\n",
        "\n",
        "You can add any class or function in this cell for preprocessing. Just make sure that you use the functions here in the `fit_model`, `predict_expected_claim` and `predict_premium` functions if necessary. \n"
      ]
    },
    {
      "cell_type": "code",
      "metadata": {
        "id": "nigHdUYck_6s"
      },
      "source": [
        "preprocess_X_data <- function (x_raw){\n",
        "\t# Data preprocessing function: given X_raw, clean the data for training or prediction.\n",
        "\n",
        "\t# Parameters\n",
        "\t# ----------\n",
        "\t# X_raw : Dataframe, with the columns described in the data dictionary.\n",
        "\t# \tEach row is a different contract. This data has not been processed.\n",
        "\n",
        "\t# Returns\n",
        "\t# -------\n",
        "\t# A cleaned / preprocessed version of the dataset\n",
        "\n",
        "  # YOUR CODE HERE ------------------------------------------------------\n",
        "  \n",
        "  \n",
        "  # ---------------------------------------------------------------------\n",
        "  return(x_raw) # change this to return the cleaned data\n",
        "}"
      ],
      "execution_count": null,
      "outputs": []
    },
    {
      "cell_type": "markdown",
      "metadata": {
        "id": "UT_jJRFPkx7O"
      },
      "source": [
        "## Define the training logic"
      ]
    },
    {
      "cell_type": "code",
      "metadata": {
        "id": "bcKm2Av9daqY"
      },
      "source": [
        "fit_model <- function (x_raw, y_raw){\n",
        "\t# Model training function: given training data (X_raw, y_raw), train this pricing model.\n",
        "\n",
        "\t# Parameters\n",
        "\t# ----------\n",
        "\t# X_raw : Dataframe, with the columns described in the data dictionary.\n",
        "\t# \tEach row is a different contract. This data has not been processed.\n",
        "\t# y_raw : a array, with the value of the claims, in the same order as contracts in X_raw.\n",
        "\t# \tA one dimensional array, with values either 0 (most entries) or >0.\n",
        "\n",
        "\t# Returns\n",
        "\t# -------\n",
        "\t# self: (optional), this instance of the fitted model.\n",
        "\n",
        "\t\n",
        "  # This function trains your models and returns the trained model.\n",
        "  \n",
        "  # YOUR CODE HERE ------------------------------------------------------\n",
        "\n",
        "  # x_clean = preprocess_X_data(x_raw)  # preprocess your data before fitting\n",
        "\n",
        "  trained_model = lm(unlist(ydata) ~ 1) # toy linear model\n",
        "  \n",
        "  # ---------------------------------------------------------------------\n",
        "  # The result trained_model is something that you will save in the next section\n",
        "  return(trained_model)\n",
        "}"
      ],
      "execution_count": null,
      "outputs": []
    },
    {
      "cell_type": "code",
      "metadata": {
        "id": "YVb9Cvbkn-5Q"
      },
      "source": [
        "model = fit_model(Xdata, ydata)"
      ],
      "execution_count": null,
      "outputs": []
    },
    {
      "cell_type": "markdown",
      "metadata": {
        "id": "KOKTwZGPb-w2"
      },
      "source": [
        "## Saving your model\n",
        "\n",
        "You can save your model to a file here, so you don't need to retrain it every time."
      ]
    },
    {
      "cell_type": "code",
      "metadata": {
        "id": "8kMfPJKlb-w2"
      },
      "source": [
        "save_model <- function(model, output_path){\n",
        "  # Saves this trained model to a file.\n",
        "\n",
        "  # This is used to save the model after training, so that it can be used for prediction later.\n",
        "\n",
        "  # Do not touch this unless necessary (if you need specific features). If you do, do not\n",
        "  #  forget to update the load_model method to be compatible.\n",
        "\t\n",
        "  # Save in `trained_model.RData`.\n",
        "\n",
        "  save(model, file=output_path)\n",
        "}"
      ],
      "execution_count": null,
      "outputs": []
    },
    {
      "cell_type": "code",
      "metadata": {
        "id": "fNMwNh_jt1uz"
      },
      "source": [
        "save_model(model, MODEL_OUTPUT_PATH)"
      ],
      "execution_count": null,
      "outputs": []
    },
    {
      "cell_type": "markdown",
      "metadata": {
        "id": "vnZIECd4b-w2"
      },
      "source": [
        "If you need to load it from file, you can use this code:"
      ]
    },
    {
      "cell_type": "code",
      "metadata": {
        "id": "z03gpfMEb-w2"
      },
      "source": [
        "load_model <- function(model_path){ \n",
        " # Load a saved trained model from the file `trained_model.RData`.\n",
        "\n",
        " #    This is called by the server to evaluate your submission on hidden data.\n",
        " #    Only modify this *if* you modified save_model.\n",
        "\n",
        "  load(model_path)\n",
        "  return(model)\n",
        "}"
      ],
      "execution_count": null,
      "outputs": []
    },
    {
      "cell_type": "code",
      "metadata": {
        "id": "8xjEHnWut6Tm"
      },
      "source": [
        "model = load_model(MODEL_OUTPUT_PATH)"
      ],
      "execution_count": null,
      "outputs": []
    },
    {
      "cell_type": "markdown",
      "metadata": {
        "id": "OQGzojS_b-w3"
      },
      "source": [
        "# Predicting the claims 💵\n",
        "\n",
        "The second function, `predict_expected_claim`, takes your trained model and a dataframe of contracts, and outputs a prediction for the (expected) claim incurred by each contract. This expected claim can be seen as the probability of an accident multiplied by the cost of that accident.\n",
        "\n",
        "This is the function used to compute the _RMSE_ leaderboard, where the model best able to predict claims wins."
      ]
    },
    {
      "cell_type": "code",
      "metadata": {
        "id": "t4X3CPaZb-w3"
      },
      "source": [
        "predict_expected_claim <- function(model, x_raw){\n",
        "\t# Model prediction function: predicts the average claim based on the pricing model.\n",
        "\n",
        "\t# This functions estimates the expected claim made by a contract (typically, as the product\n",
        "\t# of the probability of having a claim multiplied by the average cost of a claim if it occurs),\n",
        "\t# for each contract in the dataset X_raw.\n",
        "\n",
        "\t# This is the function used in the RMSE leaderboard, and hence the output should be as close\n",
        "\t# as possible to the expected cost of a contract.\n",
        "\n",
        "\t# Parameters\n",
        "\t# ----------\n",
        "\t# X_raw : Dataframe, with the columns described in the data dictionary.\n",
        "\t# \tEach row is a different contract. This data has not been processed.\n",
        "\n",
        "\t# Returns\n",
        "\t# -------\n",
        "\t# avg_claims: a one-dimensional array of the same length as X_raw, with one\n",
        "\t#     average claim per contract (in same order). These average claims must be POSITIVE (>0).\n",
        "\n",
        "\n",
        "  # YOUR CODE HERE ------------------------------------------------------\n",
        "\n",
        "  # x_clean = preprocess_X_data(x_raw)  # preprocess your data before fitting\n",
        "  expected_claims = predict(model, newdata = x_raw)  # tweak this to work with your model\n",
        "\n",
        "  return(expected_claims)  \n",
        "}"
      ],
      "execution_count": null,
      "outputs": []
    },
    {
      "cell_type": "code",
      "metadata": {
        "id": "nqOw2Xbj0i9S"
      },
      "source": [
        "claims <- predict_expected_claim(model, Xdata)"
      ],
      "execution_count": null,
      "outputs": []
    },
    {
      "cell_type": "markdown",
      "metadata": {
        "id": "LcQe1oASb-w3"
      },
      "source": [
        "# Pricing contracts 💰\n",
        "\n",
        "The third and final function, `predict_premium`, takes your trained model and a dataframe of contracts, and outputs a _price_ for each of these contracts. **You are free to set this prices however you want!** These prices will then be used in competition with other models: contracts will choose the model offering the lowest price, and this model will have to pay the cost if an accident occurs.\n",
        "\n",
        "This is the function used to compute the _profit_ leaderboard: your model will participate in many markets of size 10, populated by other participants' model, and we compute the average profit of your model over all the markets it participated in."
      ]
    },
    {
      "cell_type": "code",
      "metadata": {
        "id": "qT3c8nuWb-w3"
      },
      "source": [
        "predict_premium <- function(model, x_raw){\n",
        "  # Model prediction function: predicts premiums based on the pricing model.\n",
        "\n",
        "  # This function outputs the prices that will be offered to the contracts in X_raw.\n",
        "  # premium will typically depend on the average claim predicted in \n",
        "  # predict_expected_claim, and will add some pricing strategy on top.\n",
        "\n",
        "  # This is the function used in the average profit leaderboard. Prices output here will\n",
        "  # be used in competition with other models, so feel free to use a pricing strategy.\n",
        "\n",
        "  # Parameters\n",
        "  # ----------\n",
        "  # X_raw : Dataframe, with the columns described in the data dictionary.\n",
        "  # \tEach row is a different contract. This data has not been processed.\n",
        "\n",
        "  # Returns\n",
        "  # -------\n",
        "  # prices: a one-dimensional array of the same length as X_raw, with one\n",
        "  #     price per contract (in same order). These prices must be POSITIVE (>0).\n",
        "\n",
        "\n",
        "  # YOUR CODE HERE ------------------------------------------------------\n",
        "\n",
        "  # x_clean = preprocess_X_data(x_raw)  # preprocess your data before fitting\n",
        "\n",
        "  return(predict_expected_claim(model, x_raw) * 2) # Default: bosst prices by a factor of 2\n",
        "}\n"
      ],
      "execution_count": null,
      "outputs": []
    },
    {
      "cell_type": "code",
      "metadata": {
        "id": "G7lD-nxa08tU"
      },
      "source": [
        "prices <- predict_premium(model, Xdata)\n",
        "as.matrix(head(prices))"
      ],
      "execution_count": null,
      "outputs": []
    },
    {
      "cell_type": "markdown",
      "metadata": {
        "id": "QGKrsik_b-w3"
      },
      "source": [
        "#### Profit on training data\n",
        "\n",
        "In order for your model to be considered in the profit competition, it needs to make nonnegative profit over its training set. You can check that your model satisfies this condition below:"
      ]
    },
    {
      "cell_type": "code",
      "metadata": {
        "id": "NPssEcCrb-w3"
      },
      "source": [
        "print(paste('Income:', sum(prices)))\n",
        "print(paste('Losses:', sum(ydata)))\n",
        "\n",
        "if (sum(prices) < sum(ydata)) {\n",
        "    print('Your model loses money on the training data! It does not satisfy market rule 1: Non-negative training profit.')\n",
        "    print('This model will be disqualified from the weekly profit leaderboard, but can be submitted for educational purposes to the RMSE leaderboard.')\n",
        "} else {\n",
        "    print('Your model passes the non-negative training profit test!')\n",
        "}"
      ],
      "execution_count": null,
      "outputs": []
    },
    {
      "cell_type": "markdown",
      "metadata": {
        "id": "FE0vTPmDb-w3"
      },
      "source": [
        "# Ready? Submit to AIcrowd 🚀\n",
        "\n",
        "If you are satisfied with your code, run the code below to send your code to the AICrowd servers for evaluation! This requires the variable `trained_model` to be defined by your previous code.\n",
        "\n",
        "**Make sure you have included all packages needed to run your code in the [_\"Packages\"_](#packages) section.**\n",
        "\n",
        "**NOTE**: If you submit the baseline RMSE model without any change whatsoever, your model will not be entered into the market. "
      ]
    },
    {
      "cell_type": "code",
      "metadata": {
        "id": "bVSbAI37f7Av"
      },
      "source": [
        "aicrowd_submit(AICROWD_API_KEY)"
      ],
      "execution_count": null,
      "outputs": []
    }
  ]
}